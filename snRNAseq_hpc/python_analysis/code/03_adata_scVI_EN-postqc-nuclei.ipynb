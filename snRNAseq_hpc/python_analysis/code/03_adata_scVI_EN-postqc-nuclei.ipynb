{
 "cells": [
  {
   "cell_type": "code",
   "execution_count": 1,
   "id": "3cbb86f1-d81b-4e03-8cbd-d813f541382f",
   "metadata": {},
   "outputs": [],
   "source": [
    "import scanpy as sc\n",
    "import anndata as ad\n",
    "import pandas as pd"
   ]
  },
  {
   "cell_type": "code",
   "execution_count": 3,
   "id": "d2f14d62-c84e-42ea-ab81-3bd7527f7124",
   "metadata": {},
   "outputs": [
    {
     "data": {
      "text/plain": [
       "'/dcs04/lieber/lcolladotor/spatialHPC_LIBD4035/spatial_hpc'"
      ]
     },
     "execution_count": 3,
     "metadata": {},
     "output_type": "execute_result"
    }
   ],
   "source": [
    "import os\n",
    "os.chdir(\"/dcs04/lieber/lcolladotor/spatialHPC_LIBD4035/spatial_hpc\")\n",
    "os.getcwd()"
   ]
  },
  {
   "cell_type": "code",
   "execution_count": 4,
   "id": "fc0ba72d-26b2-4751-951b-bf88d8d377ea",
   "metadata": {},
   "outputs": [],
   "source": [
    "adata = ad.read_h5ad(\"snRNAseq_hpc/python_analysis/processed-data/adata_raw.h5\")\n",
    "adata.obs['round'] = [\"R\" + x for x in map(str, adata.obs['round'].map(int))]"
   ]
  },
  {
   "cell_type": "code",
   "execution_count": 5,
   "id": "039d4069-7e13-4866-b593-25a2d1e68cc1",
   "metadata": {},
   "outputs": [
    {
     "data": {
      "text/plain": [
       "(86905, 18)"
      ]
     },
     "execution_count": 5,
     "metadata": {},
     "output_type": "execute_result"
    }
   ],
   "source": [
    "postqc = pd.read_csv(\"snRNAseq_hpc/python_analysis/processed-data/colData_EN-postqc.csv\")\n",
    "postqc.shape"
   ]
  },
  {
   "cell_type": "code",
   "execution_count": 6,
   "id": "af823e13-5870-4feb-8d7c-c79baa93f495",
   "metadata": {},
   "outputs": [],
   "source": [
    "key = [x+\"-\"+y for x, y in zip(postqc['Sample'].values, postqc['Barcode'].values)]\n",
    "postqc.set_index(pd.Series(key), inplace=True)"
   ]
  },
  {
   "cell_type": "code",
   "execution_count": 7,
   "id": "60b9c031-6e96-48ae-8690-cbaae09d7c66",
   "metadata": {},
   "outputs": [
    {
     "data": {
      "text/plain": [
       "View of AnnData object with n_obs × n_vars = 86905 × 36601\n",
       "    obs: 'barcode', 'key', 'sample', 'tissue', 'brnum', 'round', 'sorted', 'id', 'dx', 'race', 'sex', 'age', 'pmi'\n",
       "    var: 'chrom', 'chromStart', 'chromEnd', 'name', 'score', 'strand', 'thickStart', 'thickEnd', 'itemRgb', 'blockCount', 'blockSizes', 'blockStarts', 'gene_id', 'gene_version', 'gene_type', 'hgnc_id', 'tag', 'havana_gene'"
      ]
     },
     "execution_count": 7,
     "metadata": {},
     "output_type": "execute_result"
    }
   ],
   "source": [
    "adata = adata[postqc.index]\n",
    "adata"
   ]
  },
  {
   "cell_type": "markdown",
   "id": "4fa8bec9-d587-400a-b409-e993a0586b2a",
   "metadata": {},
   "source": [
    "Have to calculate mt fraction so can include in model"
   ]
  },
  {
   "cell_type": "code",
   "execution_count": 9,
   "id": "5a3cff19-80b2-4d5b-bda0-e97215423e6b",
   "metadata": {},
   "outputs": [],
   "source": [
    "adata.var[\"mt\"] = adata.var_names.str.startswith(\"MT-\")\n",
    "sc.pp.calculate_qc_metrics(adata, qc_vars=[\"mt\"], inplace=True, log1p=False)"
   ]
  },
  {
   "cell_type": "code",
   "execution_count": 20,
   "id": "8ad3e9e9-60bf-42c6-81c3-1f0f792816ff",
   "metadata": {},
   "outputs": [
    {
     "data": {
      "text/plain": [
       "(75411, 31)"
      ]
     },
     "execution_count": 20,
     "metadata": {},
     "output_type": "execute_result"
    }
   ],
   "source": [
    "final = pd.read_csv(\"snRNAseq_hpc/python_analysis/processed-data/colData_EN-final.csv\")\n",
    "final.shape"
   ]
  },
  {
   "cell_type": "code",
   "execution_count": 22,
   "id": "46d848c2-00c9-43e8-83b6-c1229a4fa9be",
   "metadata": {},
   "outputs": [],
   "source": [
    "key = [x+\"-\"+y for x, y in zip(final['Sample'].values, final['Barcode'].values)]\n",
    "final.set_index(pd.Series(key), inplace=True)"
   ]
  },
  {
   "cell_type": "code",
   "execution_count": 21,
   "id": "9ae69c45-4083-4788-8246-e34c5b3f98e3",
   "metadata": {},
   "outputs": [
    {
     "data": {
      "text/plain": [
       "Index(['Sample', 'Barcode', 'key', 'sum', 'detected', 'subsets_Mito_sum',\n",
       "       'subsets_Mito_detected', 'subsets_Mito_percent', 'total', 'high_mito',\n",
       "       'low_lib', 'low_genes', 'discard_auto', 'discard_semiauto',\n",
       "       'doubletScore', 'discard', 'brnum', 'round', 'sort', 'sizeFactor',\n",
       "       'logDoublet', 'k_5_louvain_initial5', 'k_5_louvain_initial',\n",
       "       'k_5_louvain', 'k_5_louvain2', 'discard2', 'broad.type', 'cell.type',\n",
       "       'fine.type', 'cell.type2', 'fine.type2'],\n",
       "      dtype='object')"
      ]
     },
     "execution_count": 21,
     "metadata": {},
     "output_type": "execute_result"
    }
   ],
   "source": [
    "final.columns\n",
    "#cell.type2 over celltype"
   ]
  },
  {
   "cell_type": "code",
   "execution_count": 28,
   "id": "81c22afd-d2dc-4eab-b918-0811b68dbd59",
   "metadata": {},
   "outputs": [
    {
     "data": {
      "text/plain": [
       "fine.type    fine.type2 \n",
       "AHi.1        AHi.1          1481\n",
       "AHi.2        AHi.2           979\n",
       "AHi.3        AHi.3          1009\n",
       "AHi.4        AHi.4            73\n",
       "Astro.1      Astro.1        1943\n",
       "Astro.2      Astro.2         274\n",
       "Astro.3      Astro.3        2081\n",
       "C1QL1        C1QL1           231\n",
       "CA1          CA1            3635\n",
       "CA2          CA2             383\n",
       "CA3.1        CA3.1          3410\n",
       "CA3.2        CA3.2           598\n",
       "COP          COP              57\n",
       "CORT         CORT            130\n",
       "CP.1         CP.1           1620\n",
       "CP.2         CP.2           1218\n",
       "CP.3         CP.3            328\n",
       "CRABP1       CRABP1          249\n",
       "CXCL14       CXCL14          753\n",
       "Cajal        Cajal            40\n",
       "Endo.1       Endo.1         1797\n",
       "Endo.2       Endo.2          183\n",
       "Ependy       Ependy          421\n",
       "GC.1         GC.1           4316\n",
       "GC.2         GC.2           3215\n",
       "GC.3         GC.3           1260\n",
       "GC.4         GC.4           1621\n",
       "GC.5         GC.5             96\n",
       "HATA         HATA           1982\n",
       "HTR3A        HTR3A           959\n",
       "L2/3.1       L2.3.1         2187\n",
       "L2/3.2       L2.3.2         2113\n",
       "L2/3.3       L2.3.3         1434\n",
       "L2/3.4       L2.3.4          515\n",
       "L2/3.5       L2.3.5          542\n",
       "L2/3.6       L2.3.6          837\n",
       "L5.1         L5.1           1811\n",
       "L5.2         L5.2            248\n",
       "L6.1         L6.1            212\n",
       "L6.2         L6.2           1992\n",
       "L6b          L6b            1552\n",
       "LAMP5.CGE    LAMP5.CGE      1208\n",
       "LAMP5.MGE    LAMP5.MGE      1586\n",
       "MC           MC              928\n",
       "Macro/Tcell  Macro.Tcell     360\n",
       "Micro.1      Micro.1        1643\n",
       "Micro.2      Micro.2        1937\n",
       "OPC          OPC            1605\n",
       "Oligo.1      Oligo.1        3694\n",
       "Oligo.2      Oligo.2        3093\n",
       "PC/SMC       PC.SMC          730\n",
       "PENK         PENK            851\n",
       "PV.FS        PV.FS          1429\n",
       "ProS         ProS            858\n",
       "SST          SST            1737\n",
       "Sub.1        Sub.1           994\n",
       "Sub.2        Sub.2           897\n",
       "Thal         Thal             35\n",
       "VIP          VIP            1614\n",
       "VLMC         VLMC            427\n",
       "dtype: int64"
      ]
     },
     "execution_count": 28,
     "metadata": {},
     "output_type": "execute_result"
    }
   ],
   "source": [
    "final.groupby(['fine.type','fine.type2'], observed=True).size()"
   ]
  },
  {
   "cell_type": "code",
   "execution_count": 27,
   "id": "a36b6bdd-1cb9-4165-8b71-1982b38bff88",
   "metadata": {},
   "outputs": [
    {
     "data": {
      "text/plain": [
       "fine.type2\n",
       "AHi.1          1481\n",
       "AHi.2           979\n",
       "AHi.3          1009\n",
       "AHi.4            73\n",
       "Astro.1        1943\n",
       "Astro.2         274\n",
       "Astro.3        2081\n",
       "C1QL1           231\n",
       "CA1            3635\n",
       "CA2             383\n",
       "CA3.1          3410\n",
       "CA3.2           598\n",
       "COP              57\n",
       "CORT            130\n",
       "CP.1           1620\n",
       "CP.2           1218\n",
       "CP.3            328\n",
       "CRABP1          249\n",
       "CXCL14          753\n",
       "Cajal            40\n",
       "Endo.1         1797\n",
       "Endo.2          183\n",
       "Ependy          421\n",
       "GC.1           4316\n",
       "GC.2           3215\n",
       "GC.3           1260\n",
       "GC.4           1621\n",
       "GC.5             96\n",
       "HATA           1982\n",
       "HTR3A           959\n",
       "L2.3.1         2187\n",
       "L2.3.2         2113\n",
       "L2.3.3         1434\n",
       "L2.3.4          515\n",
       "L2.3.5          542\n",
       "L2.3.6          837\n",
       "L5.1           1811\n",
       "L5.2            248\n",
       "L6.1            212\n",
       "L6.2           1992\n",
       "L6b            1552\n",
       "LAMP5.CGE      1208\n",
       "LAMP5.MGE      1586\n",
       "MC              928\n",
       "Macro.Tcell     360\n",
       "Micro.1        1643\n",
       "Micro.2        1937\n",
       "OPC            1605\n",
       "Oligo.1        3694\n",
       "Oligo.2        3093\n",
       "PC.SMC          730\n",
       "PENK            851\n",
       "PV.FS          1429\n",
       "ProS            858\n",
       "SST            1737\n",
       "Sub.1           994\n",
       "Sub.2           897\n",
       "Thal             35\n",
       "VIP            1614\n",
       "VLMC            427\n",
       "dtype: int64"
      ]
     },
     "execution_count": 27,
     "metadata": {},
     "output_type": "execute_result"
    }
   ],
   "source": [
    "final.groupby('fine.type2', observed=True).size()"
   ]
  },
  {
   "cell_type": "markdown",
   "id": "90cff2e4-6565-427d-acfd-8f944283a24f",
   "metadata": {},
   "source": [
    "#### Prep adata"
   ]
  },
  {
   "cell_type": "code",
   "execution_count": 11,
   "id": "bc62eff6-d615-4621-a2e3-6f9573b8ec97",
   "metadata": {},
   "outputs": [],
   "source": [
    "import scvi\n",
    "import torch\n",
    "#import rpy2.robjects as ro"
   ]
  },
  {
   "cell_type": "code",
   "execution_count": 12,
   "id": "76f9134a-8a72-46a9-9af5-10984f037077",
   "metadata": {},
   "outputs": [],
   "source": [
    "rdata = pd.read_csv(\"snRNAseq_hpc/python_analysis/processed-data/rowData_EN-final_bin-deviance.csv\")\n",
    "hdgs = rdata.gene_name[0:2000]"
   ]
  },
  {
   "cell_type": "code",
   "execution_count": 13,
   "id": "5224e7e2-095d-4ccb-b9f1-889085a97ab0",
   "metadata": {},
   "outputs": [],
   "source": [
    "adata.var['highly_deviant'] = False\n",
    "adata.var.loc[hdgs,'highly_deviant'] = True"
   ]
  },
  {
   "cell_type": "code",
   "execution_count": 14,
   "id": "5e283048-5540-4492-947f-fb7d9f851774",
   "metadata": {},
   "outputs": [],
   "source": [
    "# Saving count data\n",
    "adata.layers[\"counts\"] = adata.X.copy()"
   ]
  },
  {
   "cell_type": "code",
   "execution_count": 15,
   "id": "03ba09e4-d66f-4159-a522-b244c1f9fa96",
   "metadata": {},
   "outputs": [],
   "source": [
    "# Subset to highly deviant genes and copy\n",
    "adata_hdg = adata[:,adata.var[\"highly_deviant\"]].copy()"
   ]
  },
  {
   "cell_type": "code",
   "execution_count": 16,
   "id": "fdca711c-d891-47e8-9767-dca346ef7d8c",
   "metadata": {},
   "outputs": [
    {
     "data": {
      "text/plain": [
       "AnnData object with n_obs × n_vars = 86905 × 2000\n",
       "    obs: 'barcode', 'key', 'sample', 'tissue', 'brnum', 'round', 'sorted', 'id', 'dx', 'race', 'sex', 'age', 'pmi', 'n_genes_by_counts', 'total_counts', 'pct_counts_in_top_50_genes', 'pct_counts_in_top_100_genes', 'pct_counts_in_top_200_genes', 'pct_counts_in_top_500_genes', 'total_counts_mt', 'pct_counts_mt'\n",
       "    var: 'chrom', 'chromStart', 'chromEnd', 'name', 'score', 'strand', 'thickStart', 'thickEnd', 'itemRgb', 'blockCount', 'blockSizes', 'blockStarts', 'gene_id', 'gene_version', 'gene_type', 'hgnc_id', 'tag', 'havana_gene', 'mt', 'n_cells_by_counts', 'mean_counts', 'pct_dropout_by_counts', 'total_counts', 'highly_deviant'\n",
       "    layers: 'counts'"
      ]
     },
     "execution_count": 16,
     "metadata": {},
     "output_type": "execute_result"
    }
   ],
   "source": [
    "adata_hdg"
   ]
  },
  {
   "cell_type": "markdown",
   "id": "804861cc-a6b9-4dfc-a130-a96a2a9e07de",
   "metadata": {},
   "source": [
    "#### Setting up and running the model"
   ]
  },
  {
   "cell_type": "code",
   "execution_count": 17,
   "id": "edeebafb-6a15-44df-936a-7f18c7ab1b1a",
   "metadata": {},
   "outputs": [],
   "source": [
    "scvi.model.SCVI.setup_anndata(\n",
    "    adata_hdg,\n",
    "    layer=\"counts\",\n",
    "    categorical_covariate_keys=[\"round\", \"brnum\"],\n",
    "    continuous_covariate_keys=[\"pct_counts_mt\", \"age\",\"pmi\"],\n",
    ")"
   ]
  },
  {
   "cell_type": "code",
   "execution_count": 18,
   "id": "a18e6f87-7ff9-4921-8081-8c27cd370b60",
   "metadata": {},
   "outputs": [],
   "source": [
    "model = scvi.model.SCVI(adata_hdg)"
   ]
  },
  {
   "cell_type": "code",
   "execution_count": 29,
   "id": "6152e3a5-5221-4eba-b0b5-6c9b0b71c035",
   "metadata": {},
   "outputs": [
    {
     "name": "stderr",
     "output_type": "stream",
     "text": [
      "/users/jthompso/.conda/envs/snPy/lib/python3.10/site-packages/lightning/fabric/plugins/environments/slurm.py:191: The `srun` command is available on your system but is not used. HINT: If your intention is to run Lightning on SLURM, prepend your python command with `srun` like so: srun python /users/jthompso/.conda/envs/snPy/lib/python3.10/site ...\n",
      "GPU available: False, used: False\n",
      "TPU available: False, using: 0 TPU cores\n",
      "IPU available: False, using: 0 IPUs\n",
      "HPU available: False, using: 0 HPUs\n",
      "/users/jthompso/.conda/envs/snPy/lib/python3.10/site-packages/lightning/fabric/plugins/environments/slurm.py:191: The `srun` command is available on your system but is not used. HINT: If your intention is to run Lightning on SLURM, prepend your python command with `srun` like so: srun python /users/jthompso/.conda/envs/snPy/lib/python3.10/site ...\n"
     ]
    },
    {
     "name": "stdout",
     "output_type": "stream",
     "text": [
      "Epoch 92/92: 100%|███████████████████████████████████████| 92/92 [33:17<00:00, 22.80s/it, v_num=1, train_loss_step=2.84e+3, train_loss_epoch=3.2e+3]"
     ]
    },
    {
     "name": "stderr",
     "output_type": "stream",
     "text": [
      "`Trainer.fit` stopped: `max_epochs=92` reached.\n"
     ]
    },
    {
     "name": "stdout",
     "output_type": "stream",
     "text": [
      "Epoch 92/92: 100%|███████████████████████████████████████| 92/92 [33:17<00:00, 21.71s/it, v_num=1, train_loss_step=2.84e+3, train_loss_epoch=3.2e+3]\n"
     ]
    }
   ],
   "source": [
    "model.train()"
   ]
  },
  {
   "cell_type": "code",
   "execution_count": 30,
   "id": "68db9bab-d1fc-48f3-b4b3-12cf8cba3b93",
   "metadata": {},
   "outputs": [],
   "source": [
    "model.save(\"snRNAseq_hpc/python_analysis/processed-data/scvi_model_EN-postqc-2k-hdg\", overwrite=True)\n",
    "#model = scvi.model.SCVI.load(model_dir, adata=adata)"
   ]
  },
  {
   "cell_type": "code",
   "execution_count": null,
   "id": "8cb0193b-a3e5-466e-9873-3884b2959f04",
   "metadata": {},
   "outputs": [],
   "source": []
  }
 ],
 "metadata": {
  "kernelspec": {
   "display_name": "Python 3 (ipykernel)",
   "language": "python",
   "name": "python3"
  },
  "language_info": {
   "codemirror_mode": {
    "name": "ipython",
    "version": 3
   },
   "file_extension": ".py",
   "mimetype": "text/x-python",
   "name": "python",
   "nbconvert_exporter": "python",
   "pygments_lexer": "ipython3",
   "version": "3.10.14"
  }
 },
 "nbformat": 4,
 "nbformat_minor": 5
}
